{
  "nbformat": 4,
  "nbformat_minor": 0,
  "metadata": {
    "colab": {
      "name": "Actor_critic_Acrobot_train_test_save.ipynb",
      "provenance": [],
      "authorship_tag": "ABX9TyMc+8ee6xhQfiU0nTiBVUTE",
      "include_colab_link": true
    },
    "kernelspec": {
      "name": "python3",
      "display_name": "Python 3"
    },
    "language_info": {
      "name": "python"
    }
  },
  "cells": [
    {
      "cell_type": "markdown",
      "metadata": {
        "id": "view-in-github",
        "colab_type": "text"
      },
      "source": [
        "<a href=\"https://colab.research.google.com/github/gunjanak/Reinforcement_Learning/blob/main/Actor_critic_Acrobot_train_test_save.ipynb\" target=\"_parent\"><img src=\"https://colab.research.google.com/assets/colab-badge.svg\" alt=\"Open In Colab\"/></a>"
      ]
    },
    {
      "cell_type": "code",
      "execution_count": 1,
      "metadata": {
        "colab": {
          "base_uri": "https://localhost:8080/"
        },
        "id": "P7JAbaek1DeA",
        "outputId": "f4a81a71-41c6-48fb-d54a-ae847698ac22"
      },
      "outputs": [
        {
          "output_type": "stream",
          "name": "stderr",
          "text": [
            "/usr/local/lib/python3.7/dist-packages/gym/core.py:330: DeprecationWarning: \u001b[33mWARN: Initializing wrapper in old step API which returns one bool instead of two. It is recommended to set `new_step_api=True` to use new step API. This will be the default behaviour in future.\u001b[0m\n",
            "  \"Initializing wrapper in old step API which returns one bool instead of two. It is recommended to set `new_step_api=True` to use new step API. This will be the default behaviour in future.\"\n",
            "/usr/local/lib/python3.7/dist-packages/gym/wrappers/step_api_compatibility.py:40: DeprecationWarning: \u001b[33mWARN: Initializing environment in old step API which returns one bool instead of two. It is recommended to set `new_step_api=True` to use new step API. This will be the default behaviour in future.\u001b[0m\n",
            "  \"Initializing environment in old step API which returns one bool instead of two. It is recommended to set `new_step_api=True` to use new step API. This will be the default behaviour in future.\"\n"
          ]
        }
      ],
      "source": [
        "import torch\n",
        "import gym\n",
        "import torch.nn as nn\n",
        "import torch.nn.functional as F\n",
        "import numpy as np\n",
        "import random\n",
        "env = gym.make('Acrobot-v1')\n"
      ]
    },
    {
      "cell_type": "code",
      "source": [
        "class ActorCriticModel(nn.Module):\n",
        "    def __init__(self, n_input, n_output, n_hidden):\n",
        "        super(ActorCriticModel, self).__init__()\n",
        "        self.fc = nn.Linear(n_input, n_hidden)\n",
        "        self.action = nn.Linear(n_hidden, n_output)\n",
        "        self.value = nn.Linear(n_hidden, 1)\n",
        "\n",
        "    def forward(self, x):\n",
        "        x = torch.Tensor(x)\n",
        "        x = F.relu(self.fc(x))\n",
        "     \n",
        "\n",
        "        action_probs = F.softmax(self.action(x), dim=-1)\n",
        "        state_values = self.value(x)\n",
        "        return action_probs, state_values"
      ],
      "metadata": {
        "id": "RIebXQlY15Wq"
      },
      "execution_count": 2,
      "outputs": []
    },
    {
      "cell_type": "code",
      "source": [
        "class PolicyNetwork():\n",
        "    def __init__(self, n_state, n_action, n_hidden=50, lr=0.001):\n",
        "        self.model = ActorCriticModel(n_state, n_action, n_hidden)\n",
        "        self.optimizer = torch.optim.Adam(self.model.parameters(), lr)\n",
        "        self.scheduler = torch.optim.lr_scheduler.StepLR(self.optimizer, step_size=10, gamma=0.9)\n",
        "\n",
        "    def predict(self, s):\n",
        "        \"\"\"\n",
        "        Compute the output using the Actor Critic model\n",
        "        @param s: input state\n",
        "        @return: action probabilities, state_value\n",
        "        \"\"\"\n",
        "        return self.model(torch.Tensor(s))\n",
        "\n",
        "    def update(self, returns, log_probs, state_values):\n",
        "        \"\"\"\n",
        "        Update the weights of the Actor Critic network given the training samples\n",
        "        @param returns: return (cumulative rewards) for each step in an episode\n",
        "        @param log_probs: log probability for each step\n",
        "        @param state_values: state-value for each step\n",
        "        \"\"\"\n",
        "        loss = 0\n",
        "        for log_prob, value, Gt in zip(log_probs, state_values, returns):\n",
        "            advantage = Gt - value.item()\n",
        "            policy_loss = -log_prob * advantage\n",
        "\n",
        "            value_loss = F.smooth_l1_loss(value, Gt)\n",
        "\n",
        "            loss += policy_loss + value_loss\n",
        "\n",
        "        self.optimizer.zero_grad()\n",
        "        loss.backward()\n",
        "        self.optimizer.step()\n",
        "\n",
        "    def get_action(self, s):\n",
        "        \"\"\"\n",
        "        Estimate the policy and sample an action, compute its log probability\n",
        "        @param s: input state\n",
        "        @return: the selected action, log probability, predicted state-value\n",
        "        \"\"\"\n",
        "        action_probs, state_value = self.predict(s)\n",
        "        action = torch.multinomial(action_probs, 1).item()\n",
        "        log_prob = torch.log(action_probs[action])\n",
        "        return action, log_prob, state_value\n"
      ],
      "metadata": {
        "id": "Ro7hZ8KM1__2"
      },
      "execution_count": 3,
      "outputs": []
    },
    {
      "cell_type": "code",
      "source": [
        "def actor_critic(env, estimator, n_episode, gamma=1.0):\n",
        "    \"\"\"\n",
        "    Actor Critic algorithm\n",
        "    @param env: Gym environment\n",
        "    @param estimator: policy network\n",
        "    @param n_episode: number of episodes\n",
        "    @param gamma: the discount factor\n",
        "    \"\"\"\n",
        "    for episode in range(n_episode):\n",
        "        log_probs = []\n",
        "        rewards = []\n",
        "        state_values = []\n",
        "        state = env.reset()\n",
        "        while True:\n",
        "            action, log_prob, state_value = estimator.get_action(state)\n",
        "            next_state, reward, is_done, _ = env.step(action)\n",
        "            total_reward_episode[episode] += reward\n",
        "            log_probs.append(log_prob)\n",
        "            state_values.append(state_value)\n",
        "            rewards.append(reward)\n",
        "            if is_done:\n",
        "\n",
        "                returns = []\n",
        "\n",
        "                Gt = 0\n",
        "                pw = 0\n",
        "\n",
        "                for reward in rewards[::-1]:\n",
        "                    Gt += gamma ** pw * reward\n",
        "                    pw += 1\n",
        "                    returns.append(Gt)\n",
        "\n",
        "                returns = returns[::-1]\n",
        "                returns = torch.tensor(returns)\n",
        "                returns = (returns - returns.mean()) / (returns.std() + 1e-9)\n",
        "\n",
        "                estimator.update(returns, log_probs, state_values)\n",
        "                #print('Episode: {}, total reward: {}'.format(episode, total_reward_episode[episode]))\n",
        "\n",
        "                if total_reward_episode[episode] >= 195:\n",
        "                    estimator.scheduler.step()\n",
        "\n",
        "                break\n",
        "\n",
        "            state = next_state\n"
      ],
      "metadata": {
        "id": "Hei5kbAy2FWV"
      },
      "execution_count": 4,
      "outputs": []
    },
    {
      "cell_type": "code",
      "source": [
        "n_state = env.observation_space.shape[0]\n",
        "n_action = env.action_space.n\n",
        "n_hidden = 500\n",
        "lr = 0.003\n",
        "policy_net = PolicyNetwork(n_state, n_action, n_hidden, lr)\n",
        "n_episode = 1000\n",
        "gamma = 0.9\n",
        "total_reward_episode = [0] * n_episode\n",
        "\n",
        "actor_critic(env, policy_net, n_episode, gamma)"
      ],
      "metadata": {
        "colab": {
          "base_uri": "https://localhost:8080/"
        },
        "id": "PFs62O0n2H1b",
        "outputId": "b9162f43-721d-4077-d857-33d548d9bb49"
      },
      "execution_count": 5,
      "outputs": [
        {
          "output_type": "stream",
          "name": "stderr",
          "text": [
            "/usr/local/lib/python3.7/dist-packages/ipykernel_launcher.py:27: UserWarning: Using a target size (torch.Size([])) that is different to the input size (torch.Size([1])). This will likely lead to incorrect results due to broadcasting. Please ensure they have the same size.\n"
          ]
        }
      ]
    },
    {
      "cell_type": "code",
      "source": [
        "import matplotlib.pyplot as plt\n",
        "\n",
        "plt.plot(total_reward_episode)\n",
        "plt.title('Episode reward over time')\n",
        "plt.xlabel('Episode')\n",
        "plt.ylabel('Total reward')\n",
        "plt.show()"
      ],
      "metadata": {
        "colab": {
          "base_uri": "https://localhost:8080/",
          "height": 295
        },
        "id": "5Iog67pR2Ldh",
        "outputId": "cce0f95e-996c-4f12-86fa-998ba5c487f6"
      },
      "execution_count": 6,
      "outputs": [
        {
          "output_type": "display_data",
          "data": {
            "text/plain": [
              "<Figure size 432x288 with 1 Axes>"
            ],
            "image/png": "[encoded data removed]"
          },
          "metadata": {
            "needs_background": "light"
          }
        }
      ]
    },
    {
      "cell_type": "markdown",
      "source": [
        "#Testing the trained model for 100 episodes and calculating the average reward\n"
      ],
      "metadata": {
        "id": "F0hirmCCzjJN"
      }
    },
    {
      "cell_type": "code",
      "source": [
        "episodes = 100\n",
        "total_reward = []\n",
        "total_positive_reward = []\n",
        "count = 0\n",
        "for episode in range(episodes):\n",
        "  print(episode)\n",
        "  state = env.reset()\n",
        "  is_done = False\n",
        "  total_reward_episode = 0\n",
        "  positive_reward_count = 0\n",
        "  while not is_done:\n",
        "    action, log_prob, state_value  = policy_net.get_action(state)\n",
        "    next_state, reward, is_done, _ = env.step(action)\n",
        "    state = next_state\n",
        "    total_reward_episode += reward\n",
        "    if(reward > -1):\n",
        "      positive_reward_count += 1\n",
        "\n",
        "  #print(total_reward_episode)\n",
        "  if(total_reward_episode > -120):\n",
        "    count = count + 1\n",
        "  total_reward.append(total_reward_episode)\n",
        "  total_positive_reward.append(positive_reward_count)"
      ],
      "metadata": {
        "id": "okxl5R-e4gVs"
      },
      "execution_count": null,
      "outputs": []
    },
    {
      "cell_type": "code",
      "source": [
        "print(count)\n",
        "print(sum(total_reward)/episodes)"
      ],
      "metadata": {
        "colab": {
          "base_uri": "https://localhost:8080/"
        },
        "id": "PkH12bgg6ZrS",
        "outputId": "7dc2fba9-d63c-4420-9a7a-015db72d5949"
      },
      "execution_count": 8,
      "outputs": [
        {
          "output_type": "stream",
          "name": "stdout",
          "text": [
            "37\n",
            "-137.6\n"
          ]
        }
      ]
    },
    {
      "cell_type": "markdown",
      "source": [
        "#Saving the model"
      ],
      "metadata": {
        "id": "KNVVFefQ4dJC"
      }
    },
    {
      "cell_type": "code",
      "source": [
        "import pickle\n",
        "def save_object(obj, filename):\n",
        "    with open(filename, 'wb') as outp:\n",
        "        pickle.dump(obj, outp, pickle.HIGHEST_PROTOCOL)\n",
        "save_object(policy_net, 'actor_critic_acrobat.pkl')"
      ],
      "metadata": {
        "id": "xoI77Jpo2-Vx"
      },
      "execution_count": 9,
      "outputs": []
    }
  ]
}