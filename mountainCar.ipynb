{
  "nbformat": 4,
  "nbformat_minor": 0,
  "metadata": {
    "colab": {
      "name": "mountainCar.ipynb",
      "provenance": [],
      "collapsed_sections": [],
      "authorship_tag": "ABX9TyMgdQT/90W9xrl3jh03RMll",
      "include_colab_link": true
    },
    "kernelspec": {
      "name": "python3",
      "display_name": "Python 3"
    },
    "language_info": {
      "name": "python"
    },
    "accelerator": "GPU",
    "gpuClass": "standard"
  },
  "cells": [
    {
      "cell_type": "markdown",
      "metadata": {
        "id": "view-in-github",
        "colab_type": "text"
      },
      "source": [
        "<a href=\"https://colab.research.google.com/github/gunjanak/Reinforcement_Learning/blob/main/mountainCar.ipynb\" target=\"_parent\"><img src=\"https://colab.research.google.com/assets/colab-badge.svg\" alt=\"Open In Colab\"/></a>"
      ]
    },
    {
      "cell_type": "markdown",
      "source": [
        "#Function Approximation"
      ],
      "metadata": {
        "id": "GlITH61e9NVN"
      }
    },
    {
      "cell_type": "markdown",
      "source": [
        "For problems with very large number of states it will not be feasible for our agent to use table to record the value of all the action for each state and make its policy accordingly.\n",
        "\n",
        "In Function approximation agent learns a function which will approxmately give it best action for particular state.\n",
        "\n",
        "In this example we will use neural network to estimate the function.\n",
        "The goal of FA is to use a set of features to estimate the Q values via a regression model.Using neural networks as the estimation model, we increase the regression power by adding flexibility (multiple layers in neural networks) and non-linearity introduced by non-linear activation in hidden layers. The remaining part of the Q-learning model is very similar to the one with linear approximation. We also use gradient descent to train the\n",
        "network. The ultimate goal of learning is to find the optimal weights of the network to best approximate the state-value function, V(s), for each possible action. The loss function we are trying to minimize is also the mean squared error between the actual value and the estimated value."
      ],
      "metadata": {
        "id": "T8dMBAW79ST6"
      }
    },
    {
      "cell_type": "code",
      "execution_count": 1,
      "metadata": {
        "id": "7FFzkSXUnWER"
      },
      "outputs": [],
      "source": [
        "'''\n",
        "Source codes for PyTorch 1.0 Reinforcement Learning (Packt Publishing)\n",
        "Chapter 6: Scaling up Learning with Function Approximation\n",
        "Author: Yuxi (Hayden) Liu\n",
        "'''\n",
        "\n",
        "import torch\n",
        "from torch.autograd import Variable\n",
        "import math\n",
        "\n",
        "\n",
        "class Estimator():\n",
        "    def __init__(self, n_feat, n_state, n_action, n_hidden=50, lr=0.05):\n",
        "        self.w, self.b = self.get_gaussian_wb(n_feat, n_state)\n",
        "        self.n_feat = n_feat\n",
        "        self.models = []\n",
        "        self.optimizers = []\n",
        "        self.criterion = torch.nn.MSELoss()\n",
        "\n",
        "        for _ in range(n_action):\n",
        "          #Defining the neural network model\n",
        "            model = torch.nn.Sequential(\n",
        "                        torch.nn.Linear(n_feat, n_hidden),\n",
        "                        torch.nn.ReLU(),\n",
        "                        torch.nn.Linear(n_hidden, n_hidden),\n",
        "                        torch.nn.ReLU(),\n",
        "                        torch.nn.Linear(n_hidden, n_hidden),\n",
        "                        torch.nn.ReLU(),\n",
        "                        torch.nn.Linear(n_hidden, 1)\n",
        "                )\n",
        "\n",
        "            self.models.append(model)\n",
        "            #using Adam as an optimizer\n",
        "            optimizer = torch.optim.Adam(model.parameters(), lr)\n",
        "            self.optimizers.append(optimizer)\n",
        "\n",
        "\n",
        "\n",
        "    def get_gaussian_wb(self, n_feat, n_state, sigma=.2):\n",
        "        \"\"\"\n",
        "        Generate the coefficients of the feature set from Gaussian distribution\n",
        "        @param n_feat: number of features\n",
        "        @param n_state: number of states\n",
        "        @param sigma: kernel parameter\n",
        "        @return: coefficients of the features\n",
        "        \"\"\"\n",
        "        torch.manual_seed(0)\n",
        "        w = torch.randn((n_state, n_feat)) * 1.0 / sigma\n",
        "        b = torch.rand(n_feat) * 2.0 * math.pi\n",
        "        return w, b\n",
        "\n",
        "    def get_feature(self, s):\n",
        "        \"\"\"\n",
        "        Generate features based on the input state\n",
        "        @param s: input state\n",
        "        @return: features\n",
        "        \"\"\"\n",
        "        features = (2.0 / self.n_feat) ** .5 * torch.cos(\n",
        "            torch.matmul(torch.tensor(s).float(), self.w) + self.b)\n",
        "        return features\n",
        "\n",
        "\n",
        "    def update(self, s, a, y):\n",
        "        \"\"\"\n",
        "        Update the weights for the linear estimator with the given training sample\n",
        "        @param s: state\n",
        "        @param a: action\n",
        "        @param y: target value\n",
        "        \"\"\"\n",
        "        features = Variable(self.get_feature(s))\n",
        "\n",
        "\n",
        "        y_pred = self.models[a](features)\n",
        "\n",
        "        loss = self.criterion(y_pred, Variable(torch.Tensor([y])))\n",
        "\n",
        "        self.optimizers[a].zero_grad()\n",
        "        loss.backward()\n",
        "\n",
        "        self.optimizers[a].step()\n",
        "\n",
        "\n",
        "\n",
        "    def predict(self, s):\n",
        "        \"\"\"\n",
        "        Compute the Q values of the state using the learning model\n",
        "        @param s: input state\n",
        "        @return: Q values of the state\n",
        "        \"\"\"\n",
        "        features = self.get_feature(s)\n",
        "        with torch.no_grad():\n",
        "            return torch.tensor([model(features) for model in self.models])"
      ]
    },
    {
      "cell_type": "markdown",
      "source": [
        "#Mountain Car"
      ],
      "metadata": {
        "id": "y1eJkP2C-hfL"
      }
    },
    {
      "cell_type": "markdown",
      "source": [
        "Mountain Car ( https:/​ / ​ gym.​ openai.​ com/​ envs/​ MountainCar-​ v0/​ ) is a typical Gym\n",
        "environment with continuous states. As shown in the following diagram, its goal is to get\n",
        "the car to the top of the hill:\n",
        "\n",
        "On a one-dimensional track, the car is positioned between -1.2 (leftmost) and 0.6\n",
        "(rightmost), and the goal (yellow flag) is located at 0.5. The engine of the car is not strong\n",
        "enough to drive it to the top in a single pass, so it has to drive back and forth to build up\n",
        "momentum. Hence, there are three discrete actions for each step:\n",
        "Push left (0)\n",
        "No push (1)\n",
        "Push right (2)\n",
        "\n",
        "And there are two states of the environment:\n",
        "Position of the car: this is a continuous variable from -1.2 to 0.6.\n",
        "Velocity of the car: this is a continuous variable from -0.07 to 0.07.\n",
        "The reward associated with each step is -1, until the car reaches the goal (a position of 0.5).\n",
        "An episode ends when the car reaches the goal position (obviously), or after 200 steps."
      ],
      "metadata": {
        "id": "N0AuYP9U-lcn"
      }
    },
    {
      "cell_type": "code",
      "source": [
        "import gym\n",
        "import torch\n",
        "\n",
        "from collections import deque\n",
        "import random\n",
        "\n",
        "env = gym.envs.make(\"MountainCar-v0\")"
      ],
      "metadata": {
        "id": "nhYX6ct0P5MR"
      },
      "execution_count": 2,
      "outputs": []
    },
    {
      "cell_type": "code",
      "source": [
        "#connecting python script to gpu\n",
        "device = 'cuda' if torch.cuda.is_available() else 'cpu'"
      ],
      "metadata": {
        "id": "XjD6QwpWsIQt"
      },
      "execution_count": 3,
      "outputs": []
    },
    {
      "cell_type": "code",
      "source": [
        "def gen_epsilon_greedy_policy(estimator, epsilon, n_action):\n",
        "    def policy_function(state):\n",
        "        probs = torch.ones(n_action) * epsilon / n_action\n",
        "        q_values = estimator.predict(state)\n",
        "        best_action = torch.argmax(q_values).item()\n",
        "        probs[best_action] += 1.0 - epsilon\n",
        "        action = torch.multinomial(probs, 1).item()\n",
        "        return action\n",
        "    return policy_function\n"
      ],
      "metadata": {
        "id": "52NQVTaLQFYY"
      },
      "execution_count": 4,
      "outputs": []
    },
    {
      "cell_type": "markdown",
      "source": [
        "#Q learning with experience Replay"
      ],
      "metadata": {
        "id": "_o2MZXZi_UZh"
      }
    },
    {
      "cell_type": "markdown",
      "source": [
        "Experience replay means we store the agent's experiences during an episode instead of\n",
        "running Q-learning. The learning phase with experience replay becomes two phases:\n",
        "gaining experience and updating models based on the experience obtained after an episode\n",
        "finishes.Specifically, the experience (also called the buffer, or memory) includes the past\n",
        "state, the action taken, the reward received, and the next state for individual steps in an\n",
        "episode."
      ],
      "metadata": {
        "id": "eYDpmB0O_YL4"
      }
    },
    {
      "cell_type": "code",
      "source": [
        "def q_learning(env, estimator, n_episode, replay_size, gamma=1.0, epsilon=0.1, epsilon_decay=.99):\n",
        "    \"\"\"\n",
        "    Q-Learning algorithm using Function Approximation, with experience replay\n",
        "    @param env: Gym environment\n",
        "    @param estimator: Estimator object\n",
        "    @param replay_size: number of samples we use to update the model each time\n",
        "    @param n_episode: number of episodes\n",
        "    @param gamma: the discount factor\n",
        "    @param epsilon: parameter for epsilon_greedy\n",
        "    @param epsilon_decay: epsilon decreasing factor\n",
        "    \"\"\"\n",
        "    for episode in range(n_episode):\n",
        "        policy = gen_epsilon_greedy_policy(estimator, epsilon * epsilon_decay ** episode, n_action)\n",
        "        state = env.reset()\n",
        "        is_done = False\n",
        "        while not is_done:\n",
        "            action = policy(state)\n",
        "            next_state, reward, is_done, _ = env.step(action)\n",
        "            total_reward_episode[episode] += reward\n",
        "\n",
        "            if is_done:\n",
        "                break\n",
        "\n",
        "            q_values_next = estimator.predict(next_state)\n",
        "            td_target = reward + gamma * torch.max(q_values_next)\n",
        "\n",
        "\n",
        "            #appending state, action and td_target in experience replay buffer\n",
        "            memory.append((state, action, td_target))\n",
        "\n",
        "            state = next_state\n",
        "\n",
        "        #Extracting random data from memory\n",
        "        replay_data = random.sample(memory, min(replay_size, len(memory)))\n",
        "        \n",
        "        #Using that random data to update the estimator\n",
        "        for state, action, td_target in replay_data:\n",
        "            estimator.update(state, action, td_target)\n",
        "\n",
        "        if(episode%100 == 0):\n",
        "          print(\"Episode: {} Reward: {}\".format(episode,total_reward_episode[episode]))\n",
        "\n"
      ],
      "metadata": {
        "id": "QZE8Lgz9QIE-"
      },
      "execution_count": 5,
      "outputs": []
    },
    {
      "cell_type": "code",
      "source": [
        "n_state = env.observation_space.shape[0]\n",
        "n_action = env.action_space.n\n",
        "n_feature = 200\n",
        "n_hidden = 50\n",
        "lr = 0.001\n",
        "#Instatiating the Estimator object\n",
        "estimator = Estimator(n_feature, n_state, n_action, n_hidden, lr)"
      ],
      "metadata": {
        "id": "dGBLNZVSQZ_8"
      },
      "execution_count": 17,
      "outputs": []
    },
    {
      "cell_type": "code",
      "source": [
        "#Defining the memory for experience buffer\n",
        "memory = deque(maxlen=300)\n",
        "n_episode = 500\n",
        "replay_size = 200\n",
        "total_reward_episode = [0] * n_episode\n",
        "\n",
        "q_learning(env, estimator, n_episode, replay_size, epsilon=0.1)"
      ],
      "metadata": {
        "id": "dcOISSnmQc-E",
        "colab": {
          "base_uri": "https://localhost:8080/"
        },
        "outputId": "41912b89-3d94-45a9-f2b9-9426aefd7b15"
      },
      "execution_count": 18,
      "outputs": [
        {
          "output_type": "stream",
          "name": "stdout",
          "text": [
            "Episode: 0 Reward: -200.0\n",
            "Episode: 100 Reward: -200.0\n",
            "Episode: 200 Reward: -200.0\n",
            "Episode: 300 Reward: -149.0\n",
            "Episode: 400 Reward: -162.0\n"
          ]
        }
      ]
    },
    {
      "cell_type": "code",
      "source": [
        "import matplotlib.pyplot as plt\n",
        "plt.figure(figsize=(10,7))\n",
        "plt.plot(total_reward_episode)\n",
        "plt.title('Episode reward over time')\n",
        "plt.xlabel('Episode')\n",
        "plt.ylabel('Total reward')\n",
        "plt.show()"
      ],
      "metadata": {
        "id": "5QF2pbfYQfS1",
        "colab": {
          "base_uri": "https://localhost:8080/",
          "height": 458
        },
        "outputId": "f6670ae4-ee20-435a-8620-5ee799a88aed"
      },
      "execution_count": 19,
      "outputs": [
        {
          "output_type": "display_data",
          "data": {
            "text/plain": [
              "<Figure size 720x504 with 1 Axes>"
            ],
            "image/png": "[encoded data removed]"
          },
          "metadata": {
            "needs_background": "light"
          }
        }
      ]
    },
    {
      "cell_type": "code",
      "source": [
        "\n",
        "#Using the trained estimator to run one episode of the MountainCar\n",
        "state = env.reset()\n",
        "is_done = False\n",
        "total_reward_episode = 0\n",
        "while not is_done:\n",
        "  q_values = estimator.predict(state)\n",
        "  best_action = torch.argmax(q_values).item()\n",
        "  next_state, reward, is_done, _ = env.step(best_action)\n",
        "  state = next_state\n",
        "  total_reward_episode += reward\n",
        "\n",
        "\n",
        "print(total_reward_episode)\n",
        "\n"
      ],
      "metadata": {
        "id": "_gMRjwqXRmPj",
        "colab": {
          "base_uri": "https://localhost:8080/"
        },
        "outputId": "db098c94-3b94-4ccb-a4e2-b9c115ecd1d3"
      },
      "execution_count": 20,
      "outputs": [
        {
          "output_type": "stream",
          "name": "stdout",
          "text": [
            "-133.0\n"
          ]
        }
      ]
    },
    {
      "cell_type": "markdown",
      "source": [
        "#Storing trained estimator object for future use"
      ],
      "metadata": {
        "id": "g4aGdCqxAXhM"
      }
    },
    {
      "cell_type": "code",
      "source": [
        "import pickle"
      ],
      "metadata": {
        "id": "wm-RE3FSRqkb"
      },
      "execution_count": 21,
      "outputs": []
    },
    {
      "cell_type": "code",
      "source": [
        "def save_object(obj, filename):\n",
        "    with open(filename, 'wb') as outp:\n",
        "        pickle.dump(obj, outp, pickle.HIGHEST_PROTOCOL)"
      ],
      "metadata": {
        "id": "On-6MfP9xl-f"
      },
      "execution_count": 22,
      "outputs": []
    },
    {
      "cell_type": "code",
      "source": [
        "save_object(estimator, 'estimator.pkl')"
      ],
      "metadata": {
        "id": "hxvWIgwexq_R"
      },
      "execution_count": 23,
      "outputs": []
    },
    {
      "cell_type": "markdown",
      "source": [
        "#Loading the object"
      ],
      "metadata": {
        "id": "4tCp1u39Adhn"
      }
    },
    {
      "cell_type": "code",
      "source": [
        "file_to_read = open(\"/content/estimator.pkl\", \"rb\")\n",
        "\n",
        "loaded_estimator = pickle.load(file_to_read)"
      ],
      "metadata": {
        "id": "QMsz36yyyD-d"
      },
      "execution_count": 24,
      "outputs": []
    },
    {
      "cell_type": "code",
      "source": [
        "#Playing with the loaded object\n",
        "state = env.reset()\n",
        "is_done = False\n",
        "total_reward_episode = 0\n",
        "while not is_done:\n",
        "  q_values = loaded_estimator.predict(state)\n",
        "  best_action = torch.argmax(q_values).item()\n",
        "  next_state, reward, is_done, _ = env.step(best_action)\n",
        "  state = next_state\n",
        "  total_reward_episode += reward\n",
        "\n",
        "\n",
        "print(total_reward_episode)\n",
        "\n"
      ],
      "metadata": {
        "colab": {
          "base_uri": "https://localhost:8080/"
        },
        "id": "jTndmEr0ycfb",
        "outputId": "7ea0444a-9799-4f90-8c76-d14654887d47"
      },
      "execution_count": 25,
      "outputs": [
        {
          "output_type": "stream",
          "name": "stdout",
          "text": [
            "-138.0\n"
          ]
        }
      ]
    }
  ]
}