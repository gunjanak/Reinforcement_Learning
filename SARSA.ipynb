{
  "nbformat": 4,
  "nbformat_minor": 0,
  "metadata": {
    "colab": {
      "name": "SARSA.ipynb",
      "provenance": [],
      "collapsed_sections": []
    },
    "kernelspec": {
      "name": "python3",
      "display_name": "Python 3"
    },
    "language_info": {
      "name": "python"
    }
  },
  "cells": [
    {
      "cell_type": "code",
      "execution_count": 1,
      "metadata": {
        "id": "AQx2GiMViGkX"
      },
      "outputs": [],
      "source": [
        "import numpy as np\n",
        "import sys\n",
        "from gym.envs.toy_text import discrete"
      ]
    },
    {
      "cell_type": "code",
      "source": [
        "UP = 0\n",
        "RIGHT = 1\n",
        "DOWN = 2\n",
        "LEFT = 3"
      ],
      "metadata": {
        "id": "vv80PhkwiRcH"
      },
      "execution_count": 2,
      "outputs": []
    },
    {
      "cell_type": "code",
      "source": [
        "class WindyGridworldEnv(discrete.DiscreteEnv):\n",
        "  def __init__(self):\n",
        "    self.shape = (7,10)\n",
        "    nS = self.shape[0]*self.shape[1]\n",
        "    nA = 4\n",
        "    #Winds locations\n",
        "    winds = np.zeros(self.shape)\n",
        "    winds[:,[3,4,5,8]]=1\n",
        "    winds[:,[6,7]]=2\n",
        "    self.goal = (3,7)\n",
        "    #Calcualte transition probabiliites and rewards\n",
        "    P = {}\n",
        "    for s in range(nS):\n",
        "      position = np.unravel_index(s,self.shape)\n",
        "      #print(position)\n",
        "      P[s] = {a:[] for a in range(nA)}\n",
        "      P[s][UP] = self._calculate_transition_prob(position,\n",
        "                                                 [-1,0],winds)\n",
        "      P[s][RIGHT] = self._calculate_transition_prob(position,\n",
        "                                                 [0,1],winds)\n",
        "      P[s][DOWN] = self._calculate_transition_prob(position,[1,0],\n",
        "                                                   winds)\n",
        "      P[s][LEFT] = self._calculate_transition_prob(position,[0,-1],winds)\n",
        "      #print(P)\n",
        "\n",
        "    #Calculate initial state distribution\n",
        "    #We start in state (3,0)\n",
        "    isd = np.zeros(nS)\n",
        "    isd[np.ravel_multi_index((3,0),self.shape)] = 1.0\n",
        "    super(WindyGridworldEnv,self).__init__(nS,nA,P,isd)\n",
        "\n",
        "  def _calculate_transition_prob(self,current,delta,winds):\n",
        "    \"\"\"\n",
        "    Determine the outcome for an action.\n",
        "    Transition Prob is always 1.0\n",
        "\n",
        "    @param current: (row,col), current position on the grid\n",
        "    @param delta: Changein position for transition\n",
        "    @param winds: Wind effect\n",
        "    @return: (1.0,new_state,reward,is_done)\n",
        "    \"\"\"\n",
        "    new_position = np.array(current) + np.array(delta) + np.array([-1,0])*winds[tuple(current)]\n",
        "    new_position = self._limit_coordinates(new_position).astype(int)\n",
        "    new_state = np.ravel_multi_index(tuple(new_position),self.shape)\n",
        "    is_done = tuple(new_position) == self.goal\n",
        "    return [(1.0,new_state,-1.0,is_done)]\n",
        "\n",
        "  def _limit_coordinates(self,coord):\n",
        "    coord[0] = min(coord[0],self.shape[0] -1)\n",
        "    coord[0] = max(coord[0],0)\n",
        "    coord[1] = min(coord[1],self.shape[1]-1)\n",
        "    coord[1] = max(coord[1],0)\n",
        "\n",
        "    return coord\n",
        "\n",
        "  def render(self):\n",
        "    # x represents the agent's current position.\n",
        "    # T is the foal tile\n",
        "    # the remaining tiles are denoted as o\n",
        "    outfile = sys.stdout\n",
        "    for s in range(self.nS):\n",
        "      position = np.unravel_index(s,self.shape)\n",
        "      if self.s == s:\n",
        "        output = 'x'\n",
        "      elif position == self.goal:\n",
        "        output = \"T\"\n",
        "      else:\n",
        "        output = \"o\"\n",
        "\n",
        "      if position[1] == 0:\n",
        "        output = output.lstrip()\n",
        "      if position[1] == self.shape[1]-1:\n",
        "        output = output.rstrip()\n",
        "        output += \"\\n\"\n",
        "      outfile.write(output)\n",
        "\n",
        "    outfile.write(\"\\n\")\n",
        "\n",
        "\n"
      ],
      "metadata": {
        "id": "aOBinUJyiojt"
      },
      "execution_count": 3,
      "outputs": []
    },
    {
      "cell_type": "code",
      "source": [
        "#instantiate an object of windy gridworld\n",
        "env = WindyGridworldEnv()"
      ],
      "metadata": {
        "id": "3wcA1OIylYRj"
      },
      "execution_count": 4,
      "outputs": []
    },
    {
      "cell_type": "code",
      "source": [
        "env.reset()\n",
        "env.render()"
      ],
      "metadata": {
        "colab": {
          "base_uri": "https://localhost:8080/"
        },
        "id": "DP0bNZzalbZt",
        "outputId": "e59e7b48-f0aa-44c3-ce2c-1f850163adec"
      },
      "execution_count": 5,
      "outputs": [
        {
          "output_type": "stream",
          "name": "stdout",
          "text": [
            "oooooooooo\n",
            "oooooooooo\n",
            "oooooooooo\n",
            "xooooooToo\n",
            "oooooooooo\n",
            "oooooooooo\n",
            "oooooooooo\n",
            "\n"
          ]
        }
      ]
    },
    {
      "cell_type": "code",
      "source": [
        "print(env.step(UP))\n",
        "env.render()"
      ],
      "metadata": {
        "colab": {
          "base_uri": "https://localhost:8080/"
        },
        "id": "wdluMalKsOhm",
        "outputId": "3a4ec37e-c9b8-4a59-90d1-421e098da182"
      },
      "execution_count": 6,
      "outputs": [
        {
          "output_type": "stream",
          "name": "stdout",
          "text": [
            "(20, -1.0, False, {'prob': 1.0})\n",
            "oooooooooo\n",
            "oooooooooo\n",
            "xooooooooo\n",
            "oooooooToo\n",
            "oooooooooo\n",
            "oooooooooo\n",
            "oooooooooo\n",
            "\n"
          ]
        }
      ]
    },
    {
      "cell_type": "code",
      "source": [
        "print(env.step(UP))\n",
        "print(env.step(UP))\n",
        "print(env.step(RIGHT))\n",
        "env.render()"
      ],
      "metadata": {
        "colab": {
          "base_uri": "https://localhost:8080/"
        },
        "id": "T099L9sKsWWF",
        "outputId": "eef3adae-1604-409c-d35f-6334ed1d91aa"
      },
      "execution_count": 7,
      "outputs": [
        {
          "output_type": "stream",
          "name": "stdout",
          "text": [
            "(10, -1.0, False, {'prob': 1.0})\n",
            "(0, -1.0, False, {'prob': 1.0})\n",
            "(1, -1.0, False, {'prob': 1.0})\n",
            "oxoooooooo\n",
            "oooooooooo\n",
            "oooooooooo\n",
            "oooooooToo\n",
            "oooooooooo\n",
            "oooooooooo\n",
            "oooooooooo\n",
            "\n"
          ]
        }
      ]
    },
    {
      "cell_type": "code",
      "source": [
        "env.s = 43\n",
        "env.render()\n",
        "env.step(RIGHT)\n",
        "env.render()"
      ],
      "metadata": {
        "colab": {
          "base_uri": "https://localhost:8080/"
        },
        "id": "TnTzOJUmkb-F",
        "outputId": "21ac32fe-b8da-4bfd-f28a-ee8034d028a5"
      },
      "execution_count": 8,
      "outputs": [
        {
          "output_type": "stream",
          "name": "stdout",
          "text": [
            "oooooooooo\n",
            "oooooooooo\n",
            "oooooooooo\n",
            "oooooooToo\n",
            "oooxoooooo\n",
            "oooooooooo\n",
            "oooooooooo\n",
            "\n",
            "oooooooooo\n",
            "oooooooooo\n",
            "oooooooooo\n",
            "ooooxooToo\n",
            "oooooooooo\n",
            "oooooooooo\n",
            "oooooooooo\n",
            "\n"
          ]
        }
      ]
    },
    {
      "cell_type": "code",
      "source": [
        "env.s = 48\n",
        "env.render()\n",
        "env.step(LEFT)\n",
        "env.render()"
      ],
      "metadata": {
        "colab": {
          "base_uri": "https://localhost:8080/"
        },
        "id": "n4-XEUERmCc4",
        "outputId": "54e78709-fade-45b6-c649-d1f725261d29"
      },
      "execution_count": 9,
      "outputs": [
        {
          "output_type": "stream",
          "name": "stdout",
          "text": [
            "oooooooooo\n",
            "oooooooooo\n",
            "oooooooooo\n",
            "oooooooToo\n",
            "ooooooooxo\n",
            "oooooooooo\n",
            "oooooooooo\n",
            "\n",
            "oooooooooo\n",
            "oooooooooo\n",
            "oooooooooo\n",
            "oooooooxoo\n",
            "oooooooooo\n",
            "oooooooooo\n",
            "oooooooooo\n",
            "\n"
          ]
        }
      ]
    },
    {
      "cell_type": "code",
      "source": [
        "env.s = 47\n",
        "env.render()\n",
        "env.step(LEFT)\n",
        "env.render()"
      ],
      "metadata": {
        "colab": {
          "base_uri": "https://localhost:8080/"
        },
        "id": "CgPh1koKmbyS",
        "outputId": "610b3947-3bad-4237-dc2e-ca0be6afb674"
      },
      "execution_count": 10,
      "outputs": [
        {
          "output_type": "stream",
          "name": "stdout",
          "text": [
            "oooooooooo\n",
            "oooooooooo\n",
            "oooooooooo\n",
            "oooooooToo\n",
            "oooooooxoo\n",
            "oooooooooo\n",
            "oooooooooo\n",
            "\n",
            "oooooooooo\n",
            "oooooooooo\n",
            "ooooooxooo\n",
            "oooooooToo\n",
            "oooooooooo\n",
            "oooooooooo\n",
            "oooooooooo\n",
            "\n"
          ]
        }
      ]
    },
    {
      "cell_type": "code",
      "source": [
        "env.s = 48\n",
        "env.render()\n",
        "env.step(RIGHT)\n",
        "env.render()"
      ],
      "metadata": {
        "colab": {
          "base_uri": "https://localhost:8080/"
        },
        "id": "7zzfzd1HmLH6",
        "outputId": "83bcd694-6376-4215-fa37-73ba03519f1b"
      },
      "execution_count": 11,
      "outputs": [
        {
          "output_type": "stream",
          "name": "stdout",
          "text": [
            "oooooooooo\n",
            "oooooooooo\n",
            "oooooooooo\n",
            "oooooooToo\n",
            "ooooooooxo\n",
            "oooooooooo\n",
            "oooooooooo\n",
            "\n",
            "oooooooooo\n",
            "oooooooooo\n",
            "oooooooooo\n",
            "oooooooTox\n",
            "oooooooooo\n",
            "oooooooooo\n",
            "oooooooooo\n",
            "\n"
          ]
        }
      ]
    },
    {
      "cell_type": "markdown",
      "source": [
        "**SARSA** : State-Action-Reward-State-Action\n",
        "\n"
      ],
      "metadata": {
        "id": "vQQEGlkCs11f"
      }
    },
    {
      "cell_type": "markdown",
      "source": [
        "SARSA focuses on state-action values.\n",
        "\n",
        "It updates the Q-function based on the following equation:\n",
        "\n",
        "Q(s,a) = Q(s,a) + α (r + γ Q(s',a') - Q(s,a))\n",
        "\n",
        "\n",
        "Here s' is the resulting state after taking tha action ,a, in state s;\n",
        "\n",
        "r is the associated reward;\n",
        "\n",
        "α is the learning rate \n",
        "\n",
        "and γ is the discount factor.\n",
        "\n"
      ],
      "metadata": {
        "id": "aSJH6ytstClp"
      }
    },
    {
      "cell_type": "code",
      "source": [
        "import torch"
      ],
      "metadata": {
        "id": "82Mwv0WxvJZl"
      },
      "execution_count": 12,
      "outputs": []
    },
    {
      "cell_type": "code",
      "source": [
        "def gen_epsilon_greedy_policy(n_action,epsilon):\n",
        "  def policy_function(state,Q):\n",
        "    probs = torch.ones(n_action)*epsilon/n_action\n",
        "    best_action = torch.argmax(Q[state]).item()\n",
        "    probs[best_action] += 1.0 - epsilon\n",
        "    action = torch.multinomial(probs,1).item()\n",
        "    return action\n",
        "  return policy_function"
      ],
      "metadata": {
        "id": "Adwk0_UgskbL"
      },
      "execution_count": 13,
      "outputs": []
    },
    {
      "cell_type": "code",
      "source": [
        "n_episode = 500\n",
        "length_episode = [0]*n_episode\n",
        "total_reward_episode = [0]*n_episode"
      ],
      "metadata": {
        "id": "zKiNLRStIBQg"
      },
      "execution_count": 14,
      "outputs": []
    },
    {
      "cell_type": "code",
      "source": [
        "from collections import defaultdict\n",
        "def sarsa(env,gamma,n_episode,alpha):\n",
        "  \"\"\"\n",
        "  Obtaion the optimal policy with on-policy SARSA algorithm\n",
        "  @param env: OpenAI Gym environment\n",
        "  @param gamma: discount factor\n",
        "  @param n_episode: number of episodes\n",
        "  @return : The optimal Q-function and the optimal policy\n",
        "  \"\"\"\n",
        "  n_action = env.action_space.n\n",
        "  Q = defaultdict(lambda: torch.zeros(n_action))\n",
        "  for episode in range(n_episode):\n",
        "    state = env.reset()\n",
        "    is_done = False\n",
        "    action = epsilon_greedy_policy(state,Q)\n",
        "    while not is_done:\n",
        "      next_state,reward, is_done, info = env.step(action)\n",
        "      next_action = epsilon_greedy_policy(next_state,Q)\n",
        "\n",
        "      \n",
        "      td_delta = reward + gamma * Q[next_state][next_action] - Q[state][action]\n",
        "      Q[state][action] += alpha * td_delta\n",
        "      length_episode[episode] += 1\n",
        "      total_reward_episode[episode] += reward\n",
        "      if is_done:\n",
        "        break\n",
        "      state = next_state\n",
        "      action = next_action\n",
        "\n",
        "  policy = {}\n",
        "  for state,actions in Q.items():\n",
        "    policy[state] = torch.argmax(actions).item()\n",
        "\n",
        "  return Q,policy "
      ],
      "metadata": {
        "id": "ZmCVnoPIIPA9"
      },
      "execution_count": 15,
      "outputs": []
    },
    {
      "cell_type": "code",
      "source": [
        "gamma = 1\n",
        "alpha = 0.4\n",
        "epsilon = 0.1"
      ],
      "metadata": {
        "id": "3v6z1dZ7KtBD"
      },
      "execution_count": 16,
      "outputs": []
    },
    {
      "cell_type": "code",
      "source": [
        "epsilon_greedy_policy = gen_epsilon_greedy_policy(env.action_space.n,epsilon)"
      ],
      "metadata": {
        "id": "b0yq0AEXKa1O"
      },
      "execution_count": 17,
      "outputs": []
    },
    {
      "cell_type": "code",
      "source": [
        "optimal_Q, optimal_policy = sarsa(env,gamma,n_episode,alpha)\n"
      ],
      "metadata": {
        "id": "1N6D8RMzKyKh"
      },
      "execution_count": 18,
      "outputs": []
    },
    {
      "cell_type": "code",
      "source": [
        "print('The optimal policy: \\n',optimal_policy)"
      ],
      "metadata": {
        "colab": {
          "base_uri": "https://localhost:8080/"
        },
        "id": "2thBpjOBK84T",
        "outputId": "19cf7d36-e941-4490-c299-ceab69baf46d"
      },
      "execution_count": 19,
      "outputs": [
        {
          "output_type": "stream",
          "name": "stdout",
          "text": [
            "The optimal policy: \n",
            " {30: 1, 20: 1, 10: 1, 0: 1, 1: 3, 2: 1, 3: 1, 4: 1, 5: 1, 6: 1, 7: 1, 8: 1, 9: 2, 19: 2, 29: 2, 18: 1, 12: 1, 11: 1, 21: 1, 13: 1, 22: 1, 23: 1, 31: 1, 32: 1, 39: 2, 28: 1, 33: 1, 41: 1, 40: 1, 14: 1, 42: 1, 24: 1, 49: 3, 38: 2, 43: 2, 51: 1, 50: 1, 52: 1, 61: 1, 60: 1, 62: 0, 53: 1, 17: 1, 59: 0, 48: 3, 34: 1, 63: 1, 15: 1, 44: 1, 54: 1, 25: 1, 27: 0, 16: 3, 69: 3, 58: 3, 37: 0, 35: 1, 68: 3, 45: 1, 47: 2, 26: 1, 57: 2, 36: 1}\n"
          ]
        }
      ]
    },
    {
      "cell_type": "code",
      "source": [
        "import matplotlib.pyplot as plt\n",
        "plt.figure(figsize=(10,7))\n",
        "plt.plot(length_episode)\n",
        "plt.title('Episode length over time')\n",
        "plt.xlabel('Episode')\n",
        "plt.ylabel('Length')\n",
        "plt.show()"
      ],
      "metadata": {
        "colab": {
          "base_uri": "https://localhost:8080/",
          "height": 458
        },
        "id": "evh9V1OUL5UQ",
        "outputId": "4c790764-2e3a-427d-fbe3-7b01edadddf4"
      },
      "execution_count": 20,
      "outputs": [
        {
          "output_type": "display_data",
          "data": {
            "text/plain": [
              "<Figure size 720x504 with 1 Axes>"
            ],
            "image/png": "[encoded data removed]"
          },
          "metadata": {
            "needs_background": "light"
          }
        }
      ]
    },
    {
      "cell_type": "code",
      "source": [
        "plt.figure(figsize=(10,7))\n",
        "plt.plot(total_reward_episode)\n",
        "\n",
        "plt.title('Episode reward over time')\n",
        "plt.xlabel('Episode')\n",
        "plt.ylabel('Total reward')\n",
        "plt.show()"
      ],
      "metadata": {
        "colab": {
          "base_uri": "https://localhost:8080/",
          "height": 458
        },
        "id": "Ca3fReRQMLi0",
        "outputId": "9ba26fab-3306-4646-9346-de40cf17867c"
      },
      "execution_count": 21,
      "outputs": [
        {
          "output_type": "display_data",
          "data": {
            "text/plain": [
              "<Figure size 720x504 with 1 Axes>"
            ],
            "image/png": "[encoded data removed]"
          },
          "metadata": {
            "needs_background": "light"
          }
        }
      ]
    },
    {
      "cell_type": "code",
      "source": [
        "actions = {0:'UP',1:\"RIGHT\",2:\"DOWN\",3:\"LEFT\"}\n",
        "print(actions[0])"
      ],
      "metadata": {
        "colab": {
          "base_uri": "https://localhost:8080/"
        },
        "id": "IZO5mINONXPV",
        "outputId": "707e6837-48cf-4742-cd87-1a190ba01299"
      },
      "execution_count": 22,
      "outputs": [
        {
          "output_type": "stream",
          "name": "stdout",
          "text": [
            "UP\n"
          ]
        }
      ]
    },
    {
      "cell_type": "code",
      "source": [
        "env.render()"
      ],
      "metadata": {
        "colab": {
          "base_uri": "https://localhost:8080/"
        },
        "id": "Cjj3YfdkP8zs",
        "outputId": "a42d829b-9ef6-4e81-cb0d-bd739fe62d65"
      },
      "execution_count": 23,
      "outputs": [
        {
          "output_type": "stream",
          "name": "stdout",
          "text": [
            "oooooooooo\n",
            "oooooooooo\n",
            "oooooooooo\n",
            "oooooooxoo\n",
            "oooooooooo\n",
            "oooooooooo\n",
            "oooooooooo\n",
            "\n"
          ]
        }
      ]
    },
    {
      "cell_type": "code",
      "source": [
        "env.goal\n"
      ],
      "metadata": {
        "colab": {
          "base_uri": "https://localhost:8080/"
        },
        "id": "SlDi97cPPWoh",
        "outputId": "74d11f3a-0bd1-4aa3-93d0-bf818f2db630"
      },
      "execution_count": 24,
      "outputs": [
        {
          "output_type": "execute_result",
          "data": {
            "text/plain": [
              "(3, 7)"
            ]
          },
          "metadata": {},
          "execution_count": 24
        }
      ]
    },
    {
      "cell_type": "code",
      "source": [
        "#Following the optimal policy\n",
        "state = env.reset()\n",
        "print(\"I am here at {} my destination is {} but its windyworld \".format(state,env.goal[0]*10 + env.goal[1]))\n",
        "env.render()\n",
        "\n",
        "is_done = False\n",
        "steps = 1\n",
        "total_reward = 0\n",
        "\n",
        "while not is_done:\n",
        "  action = optimal_policy[state]\n",
        "  print('I am going {}'.format(actions[action]))\n",
        "  next_state,reward, is_done, info = env.step(action)\n",
        "  print(\"I reached at {}\".format(next_state))\n",
        "  env.render()\n",
        "  state = next_state\n",
        "  steps += 1\n",
        "  total_reward = total_reward + reward\n",
        "  \n",
        "\n",
        "  if(is_done):\n",
        "    print('Reached the Destination safely in Windy World in {} steps with the reward of {}'.format(steps,total_reward))\n",
        "    \n"
      ],
      "metadata": {
        "colab": {
          "base_uri": "https://localhost:8080/"
        },
        "id": "kM6C9gGHKqeN",
        "outputId": "ddb24aea-60a1-42be-bc48-11a5c919bbb4"
      },
      "execution_count": 25,
      "outputs": [
        {
          "output_type": "stream",
          "name": "stdout",
          "text": [
            "I am here at 30 my destination is 37 but its windyworld \n",
            "oooooooooo\n",
            "oooooooooo\n",
            "oooooooooo\n",
            "xooooooToo\n",
            "oooooooooo\n",
            "oooooooooo\n",
            "oooooooooo\n",
            "\n",
            "I am going RIGHT\n",
            "I reached at 31\n",
            "oooooooooo\n",
            "oooooooooo\n",
            "oooooooooo\n",
            "oxoooooToo\n",
            "oooooooooo\n",
            "oooooooooo\n",
            "oooooooooo\n",
            "\n",
            "I am going RIGHT\n",
            "I reached at 32\n",
            "oooooooooo\n",
            "oooooooooo\n",
            "oooooooooo\n",
            "ooxooooToo\n",
            "oooooooooo\n",
            "oooooooooo\n",
            "oooooooooo\n",
            "\n",
            "I am going RIGHT\n",
            "I reached at 33\n",
            "oooooooooo\n",
            "oooooooooo\n",
            "oooooooooo\n",
            "oooxoooToo\n",
            "oooooooooo\n",
            "oooooooooo\n",
            "oooooooooo\n",
            "\n",
            "I am going RIGHT\n",
            "I reached at 24\n",
            "oooooooooo\n",
            "oooooooooo\n",
            "ooooxooooo\n",
            "oooooooToo\n",
            "oooooooooo\n",
            "oooooooooo\n",
            "oooooooooo\n",
            "\n",
            "I am going RIGHT\n",
            "I reached at 15\n",
            "oooooooooo\n",
            "oooooxoooo\n",
            "oooooooooo\n",
            "oooooooToo\n",
            "oooooooooo\n",
            "oooooooooo\n",
            "oooooooooo\n",
            "\n",
            "I am going RIGHT\n",
            "I reached at 6\n",
            "ooooooxooo\n",
            "oooooooooo\n",
            "oooooooooo\n",
            "oooooooToo\n",
            "oooooooooo\n",
            "oooooooooo\n",
            "oooooooooo\n",
            "\n",
            "I am going RIGHT\n",
            "I reached at 7\n",
            "oooooooxoo\n",
            "oooooooooo\n",
            "oooooooooo\n",
            "oooooooToo\n",
            "oooooooooo\n",
            "oooooooooo\n",
            "oooooooooo\n",
            "\n",
            "I am going RIGHT\n",
            "I reached at 8\n",
            "ooooooooxo\n",
            "oooooooooo\n",
            "oooooooooo\n",
            "oooooooToo\n",
            "oooooooooo\n",
            "oooooooooo\n",
            "oooooooooo\n",
            "\n",
            "I am going RIGHT\n",
            "I reached at 9\n",
            "ooooooooox\n",
            "oooooooooo\n",
            "oooooooooo\n",
            "oooooooToo\n",
            "oooooooooo\n",
            "oooooooooo\n",
            "oooooooooo\n",
            "\n",
            "I am going DOWN\n",
            "I reached at 19\n",
            "oooooooooo\n",
            "ooooooooox\n",
            "oooooooooo\n",
            "oooooooToo\n",
            "oooooooooo\n",
            "oooooooooo\n",
            "oooooooooo\n",
            "\n",
            "I am going DOWN\n",
            "I reached at 29\n",
            "oooooooooo\n",
            "oooooooooo\n",
            "ooooooooox\n",
            "oooooooToo\n",
            "oooooooooo\n",
            "oooooooooo\n",
            "oooooooooo\n",
            "\n",
            "I am going DOWN\n",
            "I reached at 39\n",
            "oooooooooo\n",
            "oooooooooo\n",
            "oooooooooo\n",
            "oooooooTox\n",
            "oooooooooo\n",
            "oooooooooo\n",
            "oooooooooo\n",
            "\n",
            "I am going DOWN\n",
            "I reached at 49\n",
            "oooooooooo\n",
            "oooooooooo\n",
            "oooooooooo\n",
            "oooooooToo\n",
            "ooooooooox\n",
            "oooooooooo\n",
            "oooooooooo\n",
            "\n",
            "I am going LEFT\n",
            "I reached at 48\n",
            "oooooooooo\n",
            "oooooooooo\n",
            "oooooooooo\n",
            "oooooooToo\n",
            "ooooooooxo\n",
            "oooooooooo\n",
            "oooooooooo\n",
            "\n",
            "I am going LEFT\n",
            "I reached at 37\n",
            "oooooooooo\n",
            "oooooooooo\n",
            "oooooooooo\n",
            "oooooooxoo\n",
            "oooooooooo\n",
            "oooooooooo\n",
            "oooooooooo\n",
            "\n",
            "Reached the Destination safely in Windy World in 16 steps with the reward of -15.0\n"
          ]
        }
      ]
    }
  ]
}